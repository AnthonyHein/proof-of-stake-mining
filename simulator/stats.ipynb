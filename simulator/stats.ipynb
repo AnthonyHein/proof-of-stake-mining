{
 "cells": [
  {
   "cell_type": "code",
   "execution_count": 42,
   "id": "1991bae9",
   "metadata": {},
   "outputs": [],
   "source": [
    "import matplotlib.pyplot as plt\n",
    "import numpy as np\n",
    "import pandas as pd\n",
    "%matplotlib inline"
   ]
  },
  {
   "cell_type": "code",
   "execution_count": 43,
   "id": "fb4af75f",
   "metadata": {},
   "outputs": [
    {
     "data": {
      "text/html": [
       "<div>\n",
       "<style scoped>\n",
       "    .dataframe tbody tr th:only-of-type {\n",
       "        vertical-align: middle;\n",
       "    }\n",
       "\n",
       "    .dataframe tbody tr th {\n",
       "        vertical-align: top;\n",
       "    }\n",
       "\n",
       "    .dataframe thead th {\n",
       "        text-align: right;\n",
       "    }\n",
       "</style>\n",
       "<table border=\"1\" class=\"dataframe\">\n",
       "  <thead>\n",
       "    <tr style=\"text-align: right;\">\n",
       "      <th></th>\n",
       "      <th>x</th>\n",
       "      <th>y</th>\n",
       "    </tr>\n",
       "  </thead>\n",
       "  <tbody>\n",
       "    <tr>\n",
       "      <th>0</th>\n",
       "      <td>0.30</td>\n",
       "      <td>0.267807</td>\n",
       "    </tr>\n",
       "    <tr>\n",
       "      <th>1</th>\n",
       "      <td>0.31</td>\n",
       "      <td>0.293893</td>\n",
       "    </tr>\n",
       "    <tr>\n",
       "      <th>2</th>\n",
       "      <td>0.32</td>\n",
       "      <td>0.300821</td>\n",
       "    </tr>\n",
       "    <tr>\n",
       "      <th>3</th>\n",
       "      <td>0.33</td>\n",
       "      <td>0.326339</td>\n",
       "    </tr>\n",
       "    <tr>\n",
       "      <th>4</th>\n",
       "      <td>0.34</td>\n",
       "      <td>0.350952</td>\n",
       "    </tr>\n",
       "  </tbody>\n",
       "</table>\n",
       "</div>"
      ],
      "text/plain": [
       "      x         y\n",
       "0  0.30  0.267807\n",
       "1  0.31  0.293893\n",
       "2  0.32  0.300821\n",
       "3  0.33  0.326339\n",
       "4  0.34  0.350952"
      ]
     },
     "execution_count": 43,
     "metadata": {},
     "output_type": "execute_result"
    }
   ],
   "source": [
    "sm = pd.read_csv(\"sm.csv\", delimiter=\" \", names=['x', 'y'])\n",
    "sm[:5]"
   ]
  },
  {
   "cell_type": "code",
   "execution_count": 44,
   "id": "11152fcf",
   "metadata": {},
   "outputs": [
    {
     "data": {
      "text/html": [
       "<div>\n",
       "<style scoped>\n",
       "    .dataframe tbody tr th:only-of-type {\n",
       "        vertical-align: middle;\n",
       "    }\n",
       "\n",
       "    .dataframe tbody tr th {\n",
       "        vertical-align: top;\n",
       "    }\n",
       "\n",
       "    .dataframe thead th {\n",
       "        text-align: right;\n",
       "    }\n",
       "</style>\n",
       "<table border=\"1\" class=\"dataframe\">\n",
       "  <thead>\n",
       "    <tr style=\"text-align: right;\">\n",
       "      <th></th>\n",
       "      <th>x</th>\n",
       "      <th>y</th>\n",
       "    </tr>\n",
       "  </thead>\n",
       "  <tbody>\n",
       "    <tr>\n",
       "      <th>0</th>\n",
       "      <td>0.300</td>\n",
       "      <td>0.276640</td>\n",
       "    </tr>\n",
       "    <tr>\n",
       "      <th>1</th>\n",
       "      <td>0.305</td>\n",
       "      <td>0.295086</td>\n",
       "    </tr>\n",
       "    <tr>\n",
       "      <th>2</th>\n",
       "      <td>0.310</td>\n",
       "      <td>0.298884</td>\n",
       "    </tr>\n",
       "    <tr>\n",
       "      <th>3</th>\n",
       "      <td>0.315</td>\n",
       "      <td>0.297730</td>\n",
       "    </tr>\n",
       "    <tr>\n",
       "      <th>4</th>\n",
       "      <td>0.320</td>\n",
       "      <td>0.317752</td>\n",
       "    </tr>\n",
       "  </tbody>\n",
       "</table>\n",
       "</div>"
      ],
      "text/plain": [
       "       x         y\n",
       "0  0.300  0.276640\n",
       "1  0.305  0.295086\n",
       "2  0.310  0.298884\n",
       "3  0.315  0.297730\n",
       "4  0.320  0.317752"
      ]
     },
     "execution_count": 44,
     "metadata": {},
     "output_type": "execute_result"
    }
   ],
   "source": [
    "nsm = pd.read_csv(\"nsm.csv\", delimiter=\" \", names=['x', 'y'])\n",
    "nsm[:5]"
   ]
  },
  {
   "cell_type": "code",
   "execution_count": 45,
   "id": "8df807fd",
   "metadata": {},
   "outputs": [],
   "source": [
    "def selfish_mining_rev(alphas):\n",
    "    return np.divide(alphas ** 2 * (4 * alphas ** 2 - 9 * alphas + 4),\n",
    "                     (alphas ** 3 - 2 * alphas ** 2 - alphas + 1))"
   ]
  },
  {
   "cell_type": "code",
   "execution_count": 46,
   "id": "5656f938",
   "metadata": {},
   "outputs": [],
   "source": [
    "alphas = np.arange(0.30,0.5,0.05)"
   ]
  },
  {
   "cell_type": "code",
   "execution_count": 47,
   "id": "2ed7c317",
   "metadata": {},
   "outputs": [
    {
     "data": {
      "image/png": "[encoded data removed]",
      "text/plain": [
       "<Figure size 432x288 with 1 Axes>"
      ]
     },
     "metadata": {
      "needs_background": "light"
     },
     "output_type": "display_data"
    }
   ],
   "source": [
    "plt.plot(sm['x'], sm['y'])\n",
    "plt.plot(alphas, selfish_mining_rev(alphas))\n",
    "plt.show()"
   ]
  },
  {
   "cell_type": "code",
   "execution_count": 48,
   "id": "f7744c1a",
   "metadata": {},
   "outputs": [],
   "source": [
    "def nothing_at_stake_selfish_mining_rev(alphas):\n",
    "    return np.divide(alphas ** 2 * (4 - 8 * alphas - alphas ** 2 + 7 * alphas ** 3 - 3 * alphas ** 4),\n",
    "                     1 - alphas - 2 * alphas ** 2 + 3 * alphas ** 4 - 3 * alphas ** 5 + alphas ** 6)"
   ]
  },
  {
   "cell_type": "code",
   "execution_count": 49,
   "id": "d7cdeb94",
   "metadata": {},
   "outputs": [],
   "source": [
    "alphas = np.arange(0.30,0.5,0.05)"
   ]
  },
  {
   "cell_type": "code",
   "execution_count": 50,
   "id": "df8f4226",
   "metadata": {},
   "outputs": [
    {
     "data": {
      "image/png": "[encoded data removed]",
      "text/plain": [
       "<Figure size 432x288 with 1 Axes>"
      ]
     },
     "metadata": {
      "needs_background": "light"
     },
     "output_type": "display_data"
    }
   ],
   "source": [
    "plt.plot(nsm['x'], nsm['y'])\n",
    "plt.plot(alphas, nothing_at_stake_selfish_mining_rev(alphas))\n",
    "plt.show()"
   ]
  },
  {
   "cell_type": "code",
   "execution_count": null,
   "id": "03ad9776",
   "metadata": {},
   "outputs": [],
   "source": []
  }
 ],
 "metadata": {
  "kernelspec": {
   "display_name": "Python 3 (ipykernel)",
   "language": "python",
   "name": "python3"
  },
  "language_info": {
   "codemirror_mode": {
    "name": "ipython",
    "version": 3
   },
   "file_extension": ".py",
   "mimetype": "text/x-python",
   "name": "python",
   "nbconvert_exporter": "python",
   "pygments_lexer": "ipython3",
   "version": "3.9.6"
  }
 },
 "nbformat": 4,
 "nbformat_minor": 5
}
