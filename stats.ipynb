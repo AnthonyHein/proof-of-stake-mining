{
 "cells": [
  {
   "cell_type": "code",
   "execution_count": 1,
   "id": "1991bae9",
   "metadata": {},
   "outputs": [],
   "source": [
    "import matplotlib.pyplot as plt\n",
    "import numpy as np\n",
    "import pandas as pd\n",
    "%matplotlib inline"
   ]
  },
  {
   "cell_type": "code",
   "execution_count": 2,
   "id": "fb4af75f",
   "metadata": {},
   "outputs": [
    {
     "data": {
      "text/html": [
       "<div>\n",
       "<style scoped>\n",
       "    .dataframe tbody tr th:only-of-type {\n",
       "        vertical-align: middle;\n",
       "    }\n",
       "\n",
       "    .dataframe tbody tr th {\n",
       "        vertical-align: top;\n",
       "    }\n",
       "\n",
       "    .dataframe thead th {\n",
       "        text-align: right;\n",
       "    }\n",
       "</style>\n",
       "<table border=\"1\" class=\"dataframe\">\n",
       "  <thead>\n",
       "    <tr style=\"text-align: right;\">\n",
       "      <th></th>\n",
       "      <th>x</th>\n",
       "      <th>y</th>\n",
       "    </tr>\n",
       "  </thead>\n",
       "  <tbody>\n",
       "    <tr>\n",
       "      <th>0</th>\n",
       "      <td>0.330</td>\n",
       "      <td>0.324358</td>\n",
       "    </tr>\n",
       "    <tr>\n",
       "      <th>1</th>\n",
       "      <td>0.335</td>\n",
       "      <td>0.341579</td>\n",
       "    </tr>\n",
       "    <tr>\n",
       "      <th>2</th>\n",
       "      <td>0.340</td>\n",
       "      <td>0.345742</td>\n",
       "    </tr>\n",
       "    <tr>\n",
       "      <th>3</th>\n",
       "      <td>0.345</td>\n",
       "      <td>0.361287</td>\n",
       "    </tr>\n",
       "    <tr>\n",
       "      <th>4</th>\n",
       "      <td>0.350</td>\n",
       "      <td>0.371502</td>\n",
       "    </tr>\n",
       "    <tr>\n",
       "      <th>5</th>\n",
       "      <td>0.355</td>\n",
       "      <td>0.377976</td>\n",
       "    </tr>\n",
       "    <tr>\n",
       "      <th>6</th>\n",
       "      <td>0.360</td>\n",
       "      <td>0.384721</td>\n",
       "    </tr>\n",
       "    <tr>\n",
       "      <th>7</th>\n",
       "      <td>0.365</td>\n",
       "      <td>0.399108</td>\n",
       "    </tr>\n",
       "    <tr>\n",
       "      <th>8</th>\n",
       "      <td>0.370</td>\n",
       "      <td>0.410884</td>\n",
       "    </tr>\n",
       "    <tr>\n",
       "      <th>9</th>\n",
       "      <td>0.375</td>\n",
       "      <td>0.438848</td>\n",
       "    </tr>\n",
       "    <tr>\n",
       "      <th>10</th>\n",
       "      <td>0.380</td>\n",
       "      <td>0.428580</td>\n",
       "    </tr>\n",
       "    <tr>\n",
       "      <th>11</th>\n",
       "      <td>0.385</td>\n",
       "      <td>0.449871</td>\n",
       "    </tr>\n",
       "    <tr>\n",
       "      <th>12</th>\n",
       "      <td>0.390</td>\n",
       "      <td>0.459466</td>\n",
       "    </tr>\n",
       "    <tr>\n",
       "      <th>13</th>\n",
       "      <td>0.395</td>\n",
       "      <td>0.469275</td>\n",
       "    </tr>\n",
       "    <tr>\n",
       "      <th>14</th>\n",
       "      <td>0.400</td>\n",
       "      <td>0.485521</td>\n",
       "    </tr>\n",
       "    <tr>\n",
       "      <th>15</th>\n",
       "      <td>0.405</td>\n",
       "      <td>0.486880</td>\n",
       "    </tr>\n",
       "    <tr>\n",
       "      <th>16</th>\n",
       "      <td>0.410</td>\n",
       "      <td>0.505404</td>\n",
       "    </tr>\n",
       "    <tr>\n",
       "      <th>17</th>\n",
       "      <td>0.415</td>\n",
       "      <td>0.529393</td>\n",
       "    </tr>\n",
       "    <tr>\n",
       "      <th>18</th>\n",
       "      <td>0.420</td>\n",
       "      <td>0.541599</td>\n",
       "    </tr>\n",
       "    <tr>\n",
       "      <th>19</th>\n",
       "      <td>0.425</td>\n",
       "      <td>0.570343</td>\n",
       "    </tr>\n",
       "    <tr>\n",
       "      <th>20</th>\n",
       "      <td>0.430</td>\n",
       "      <td>0.594201</td>\n",
       "    </tr>\n",
       "    <tr>\n",
       "      <th>21</th>\n",
       "      <td>0.435</td>\n",
       "      <td>0.579837</td>\n",
       "    </tr>\n",
       "    <tr>\n",
       "      <th>22</th>\n",
       "      <td>0.440</td>\n",
       "      <td>0.599182</td>\n",
       "    </tr>\n",
       "    <tr>\n",
       "      <th>23</th>\n",
       "      <td>0.445</td>\n",
       "      <td>0.631085</td>\n",
       "    </tr>\n",
       "  </tbody>\n",
       "</table>\n",
       "</div>"
      ],
      "text/plain": [
       "        x         y\n",
       "0   0.330  0.324358\n",
       "1   0.335  0.341579\n",
       "2   0.340  0.345742\n",
       "3   0.345  0.361287\n",
       "4   0.350  0.371502\n",
       "5   0.355  0.377976\n",
       "6   0.360  0.384721\n",
       "7   0.365  0.399108\n",
       "8   0.370  0.410884\n",
       "9   0.375  0.438848\n",
       "10  0.380  0.428580\n",
       "11  0.385  0.449871\n",
       "12  0.390  0.459466\n",
       "13  0.395  0.469275\n",
       "14  0.400  0.485521\n",
       "15  0.405  0.486880\n",
       "16  0.410  0.505404\n",
       "17  0.415  0.529393\n",
       "18  0.420  0.541599\n",
       "19  0.425  0.570343\n",
       "20  0.430  0.594201\n",
       "21  0.435  0.579837\n",
       "22  0.440  0.599182\n",
       "23  0.445  0.631085"
      ]
     },
     "execution_count": 2,
     "metadata": {},
     "output_type": "execute_result"
    }
   ],
   "source": [
    "df = pd.read_csv(\"out.csv\", delimiter=\" \", names=['x', 'y'])\n",
    "df"
   ]
  },
  {
   "cell_type": "code",
   "execution_count": 3,
   "id": "8df807fd",
   "metadata": {},
   "outputs": [],
   "source": [
    "def selfish_mining_rev(alphas):\n",
    "    return np.divide(alphas ** 2 * (4 * alphas ** 2 - 9 * alphas + 4),\n",
    "                     (alphas ** 3 - 2 * alphas ** 2 - alphas + 1))"
   ]
  },
  {
   "cell_type": "code",
   "execution_count": 4,
   "id": "5656f938",
   "metadata": {},
   "outputs": [],
   "source": [
    "alphas = np.arange(0.33,0.5,0.05)"
   ]
  },
  {
   "cell_type": "code",
   "execution_count": 5,
   "id": "2ed7c317",
   "metadata": {},
   "outputs": [
    {
     "data": {
      "image/png": "[encoded data removed]",
      "text/plain": [
       "<Figure size 432x288 with 1 Axes>"
      ]
     },
     "metadata": {
      "needs_background": "light"
     },
     "output_type": "display_data"
    }
   ],
   "source": [
    "plt.plot(df['x'], df['y'])\n",
    "plt.plot(alphas, selfish_mining_rev(alphas))\n",
    "plt.show()"
   ]
  },
  {
   "cell_type": "code",
   "execution_count": 7,
   "id": "38ee05cf",
   "metadata": {},
   "outputs": [
    {
     "data": {
      "text/plain": [
       "0.33333333333333337"
      ]
     },
     "execution_count": 7,
     "metadata": {},
     "output_type": "execute_result"
    }
   ],
   "source": [
    "selfish_mining_rev(1/3)"
   ]
  },
  {
   "cell_type": "code",
   "execution_count": null,
   "id": "f025ab98",
   "metadata": {},
   "outputs": [],
   "source": []
  }
 ],
 "metadata": {
  "kernelspec": {
   "display_name": "Python 3 (ipykernel)",
   "language": "python",
   "name": "python3"
  },
  "language_info": {
   "codemirror_mode": {
    "name": "ipython",
    "version": 3
   },
   "file_extension": ".py",
   "mimetype": "text/x-python",
   "name": "python",
   "nbconvert_exporter": "python",
   "pygments_lexer": "ipython3",
   "version": "3.9.6"
  }
 },
 "nbformat": 4,
 "nbformat_minor": 5
}
